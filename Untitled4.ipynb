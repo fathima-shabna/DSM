{
  "nbformat": 4,
  "nbformat_minor": 0,
  "metadata": {
    "colab": {
      "provenance": [],
      "authorship_tag": "ABX9TyMB0G3XBOozGcGWaN74Xgjq",
      "include_colab_link": true
    },
    "kernelspec": {
      "name": "python3",
      "display_name": "Python 3"
    },
    "language_info": {
      "name": "python"
    }
  },
  "cells": [
    {
      "cell_type": "markdown",
      "metadata": {
        "id": "view-in-github",
        "colab_type": "text"
      },
      "source": [
        "<a href=\"https://colab.research.google.com/github/fathima-shabna/DSM/blob/main/Untitled4.ipynb\" target=\"_parent\"><img src=\"https://colab.research.google.com/assets/colab-badge.svg\" alt=\"Open In Colab\"/></a>"
      ]
    },
    {
      "cell_type": "code",
      "execution_count": 1,
      "metadata": {
        "colab": {
          "base_uri": "https://localhost:8080/"
        },
        "id": "ut8Ne-Cxd1ey",
        "outputId": "632fc716-de73-4feb-b27c-b59db4ee2c5d"
      },
      "outputs": [
        {
          "name": "stdout",
          "output_type": "stream",
          "text": [
            "BASIC CALCULATOR\n",
            "1.ADDITION\n",
            "2.SUBTRACTION\n",
            "3.MULTIPLICATION\n",
            "4.DIVISION\n",
            "5.EXIT\n",
            "Enter first number:8\n",
            "Enter second number:4\n",
            "Choose option:1\n",
            "Sum: 12\n",
            "Choose option:2\n",
            "Difference: 4\n",
            "Choose option:3\n",
            "Product: 32\n",
            "Choose option:4\n",
            "Quotient: 2.0\n",
            "Choose option:5\n"
          ]
        }
      ],
      "source": [
        "print(\"BASIC CALCULATOR\")\n",
        "print(\"1.ADDITION\\n2.SUBTRACTION\\n3.MULTIPLICATION\\n4.DIVISION\\n5.EXIT\")\n",
        "n1=int(input(\"Enter first number:\"))\n",
        "n2=int(input(\"Enter second number:\"))\n",
        "i=1\n",
        "while i<=5:\n",
        "  ch=int(input(\"Choose option:\"))\n",
        "  if ch==1:\n",
        "    print(\"Sum:\", n1+n2)\n",
        "  elif ch==2:\n",
        "    print(\"Difference:\",n1-n2)\n",
        "  elif ch==3:\n",
        "    print(\"Product:\", n1*n2)\n",
        "  elif ch==4:\n",
        "    print(\"Quotient:\", n1/n2)\n",
        "  else:\n",
        "    break"
      ]
    }
  ]
}